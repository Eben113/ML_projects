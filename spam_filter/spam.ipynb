{
 "cells": [
  {
   "cell_type": "code",
   "execution_count": 1,
   "id": "e13ba4d9",
   "metadata": {},
   "outputs": [],
   "source": [
    "import numpy as np\n",
    "import pandas as pd\n",
    "import tarfile"
   ]
  },
  {
   "cell_type": "code",
   "execution_count": 2,
   "id": "76216b1d",
   "metadata": {},
   "outputs": [],
   "source": [
    "spam_zip = tarfile.open('datasets/spam/spam.bz2')\n",
    "easy_ham_zip = tarfile.open('datasets/spam/easy_ham.bz2')"
   ]
  },
  {
   "cell_type": "code",
   "execution_count": 30,
   "id": "575a8ce5-2f17-4c4b-a7da-60c34a5d37a0",
   "metadata": {
    "tags": []
   },
   "outputs": [
    {
     "data": {
      "text/plain": [
       "[['from', 'Hosting', 'month', 'per'],\n",
       " ['month', 'from', 'Hosting', 'per', 'Aug'],\n",
       " ['month', 'from', 'Hosting', 'per', 'Aug'],\n",
       " ['month', 'from', 'Hosting', 'per', 'Aug'],\n",
       " ['month', 'from', 'Hosting', 'Normal', 'per', 'Aug'],\n",
       " ['month',\n",
       "  'Express',\n",
       "  'from',\n",
       "  'Hosting',\n",
       "  'Outlook',\n",
       "  'Normal',\n",
       "  'Microsoft',\n",
       "  'per',\n",
       "  'Aug'],\n",
       " ['month',\n",
       "  'MimeOLE',\n",
       "  'Express',\n",
       "  'from',\n",
       "  'Hosting',\n",
       "  'Outlook',\n",
       "  'Normal',\n",
       "  'By',\n",
       "  'Produced',\n",
       "  'Microsoft',\n",
       "  'per',\n",
       "  'Aug'],\n",
       " ['month',\n",
       "  'MimeOLE',\n",
       "  'Express',\n",
       "  'from',\n",
       "  'Hosting',\n",
       "  'Outlook',\n",
       "  'Normal',\n",
       "  'By',\n",
       "  'Produced',\n",
       "  'Microsoft',\n",
       "  'per',\n",
       "  'Aug'],\n",
       " ['month',\n",
       "  'MimeOLE',\n",
       "  'Express',\n",
       "  'from',\n",
       "  'Hosting',\n",
       "  'Outlook',\n",
       "  'Normal',\n",
       "  'By',\n",
       "  'Produced',\n",
       "  'Microsoft',\n",
       "  'per',\n",
       "  'Aug']]"
      ]
     },
     "execution_count": 30,
     "metadata": {},
     "output_type": "execute_result"
    }
   ],
   "source": [
    "mail_list[:9]"
   ]
  },
  {
   "cell_type": "code",
   "execution_count": 31,
   "id": "d12db6fa-a97b-4201-a28a-b03741a19a80",
   "metadata": {
    "tags": []
   },
   "outputs": [],
   "source": [
    "def get_mail_list(directories, lab):\n",
    "    mails = []\n",
    "    labels = []\n",
    "    index = 0\n",
    "    for directory in directories:\n",
    "            mail_list = tarfile.open(directory)\n",
    "            for i in mail_list.getmembers()[1:]:\n",
    "                wordset = set()\n",
    "                linebyline = str(mail_list.extractfile(i.name).read()).split('\\\\n')\n",
    "                for line in linebyline:\n",
    "                    if 'Subject:' in line:\n",
    "                        startindex = linebyline.index(line)\n",
    "                        break\n",
    "                    else:\n",
    "                        startindex = 0\n",
    "                for line in linebyline[startindex:]:\n",
    "                    for word in line.split(' '):\n",
    "                        if word.isalpha():\n",
    "                            wordset.add(word)\n",
    "                mails.append(list(wordset))\n",
    "                labels.append(lab[index])\n",
    "            index += 1\n",
    "    return(mails, labels)"
   ]
  },
  {
   "cell_type": "code",
   "execution_count": 5,
   "id": "5af44475",
   "metadata": {
    "scrolled": true
   },
   "outputs": [],
   "source": [
    "def turn_to_string(id):\n",
    "    a = list(open('datasets/spam/spam_ham/mail_'+ str(id) + '.txt', 'r', errors = 'ignore'))\n",
    "    mail_str = ''\n",
    "    for line in a:\n",
    "        if 'Subject:' in line:\n",
    "            topic_ind = a.index(line)\n",
    "        else:\n",
    "            topic_ind = 0\n",
    "    for line in a[topic_ind:]:\n",
    "        for char in line.split(' '):\n",
    "            if char.isalpha() == True:\n",
    "                mail_str += char + ' '\n",
    "    return(mail_str)"
   ]
  },
  {
   "cell_type": "code",
   "execution_count": 6,
   "id": "5062d1e6",
   "metadata": {},
   "outputs": [],
   "source": [
    "def generate_word_list(doc):\n",
    "    word_set = set()\n",
    "    for mail in doc:\n",
    "        for word in mail:\n",
    "            word_set.add(word)\n",
    "    return(list(word_set))"
   ]
  },
  {
   "cell_type": "code",
   "execution_count": 7,
   "id": "38f95f28",
   "metadata": {},
   "outputs": [],
   "source": [
    "def tokenize(word_list):\n",
    "    token_table = {}\n",
    "    iter0 = 0\n",
    "    for i in word_list[1:]:\n",
    "        token_table[i] = iter0\n",
    "        iter0 += 1\n",
    "    return(token_table)"
   ]
  },
  {
   "cell_type": "code",
   "execution_count": 8,
   "id": "dc9378d5",
   "metadata": {},
   "outputs": [],
   "source": [
    "def gen_embedded_matr(table, mail_list):\n",
    "    embedded_list = np.memmap('embed.mmap', dtype = 'float32', shape = (len(mail_list), len(table)), mode = 'write')\n",
    "    embedded_list.flush()\n",
    "    i = 0\n",
    "    for mail in mail_list:\n",
    "        entry = np.zeros((len(table)))\n",
    "        for word in mail:\n",
    "            if word in table.keys():\n",
    "                entry[table[word]] += 1\n",
    "        embedded_list[i,:] = entry\n",
    "        i += 1\n",
    "        if i % 100 == 0:\n",
    "            embedded_list.flush()\n",
    "    return(np.array(embedded_list))"
   ]
  },
  {
   "cell_type": "code",
   "execution_count": 9,
   "id": "ab6769e5",
   "metadata": {},
   "outputs": [],
   "source": [
    "mail_list, labels = get_mail_list(['datasets/spam/spam.bz2', 'datasets/spam/easy_ham.bz2'], [1,0])\n",
    "table = tokenize(generate_word_list(mail_list))"
   ]
  },
  {
   "cell_type": "code",
   "execution_count": 11,
   "id": "37946633-b788-4ad8-b54a-28454bbeca4a",
   "metadata": {
    "tags": []
   },
   "outputs": [
    {
     "data": {
      "text/plain": [
       "961280"
      ]
     },
     "execution_count": 11,
     "metadata": {},
     "output_type": "execute_result"
    }
   ],
   "source": [
    "import sys\n",
    "sys.getsizeof(table)"
   ]
  },
  {
   "cell_type": "code",
   "execution_count": 10,
   "id": "08b4eeb9-9426-4cf4-b0ae-3350ede7f528",
   "metadata": {
    "tags": []
   },
   "outputs": [],
   "source": [
    "embedded = gen_embedded_matr(table, mail_list)"
   ]
  },
  {
   "cell_type": "code",
   "execution_count": 15,
   "id": "a311035b-a895-49a1-9267-d1e67f315be0",
   "metadata": {
    "tags": []
   },
   "outputs": [
    {
     "ename": "MemoryError",
     "evalue": "Unable to allocate 8.39 GiB for an array with shape (214186, 10521) and data type float32",
     "output_type": "error",
     "traceback": [
      "\u001b[1;31m---------------------------------------------------------------------------\u001b[0m",
      "\u001b[1;31mMemoryError\u001b[0m                               Traceback (most recent call last)",
      "Cell \u001b[1;32mIn[15], line 3\u001b[0m\n\u001b[0;32m      1\u001b[0m \u001b[38;5;28;01mfrom\u001b[39;00m \u001b[38;5;21;01msklearn\u001b[39;00m\u001b[38;5;21;01m.\u001b[39;00m\u001b[38;5;21;01mrandom_projection\u001b[39;00m \u001b[38;5;28;01mimport\u001b[39;00m GaussianRandomProjection \u001b[38;5;28;01mas\u001b[39;00m GRP\n\u001b[0;32m      2\u001b[0m grp \u001b[38;5;241m=\u001b[39m GRP(random_state \u001b[38;5;241m=\u001b[39m \u001b[38;5;241m42\u001b[39m)\n\u001b[1;32m----> 3\u001b[0m reduced \u001b[38;5;241m=\u001b[39m grp\u001b[38;5;241m.\u001b[39mfit_transform(embedded)\n",
      "File \u001b[1;32m~\\anaconda3\\Lib\\site-packages\\sklearn\\utils\\_set_output.py:140\u001b[0m, in \u001b[0;36m_wrap_method_output.<locals>.wrapped\u001b[1;34m(self, X, *args, **kwargs)\u001b[0m\n\u001b[0;32m    138\u001b[0m \u001b[38;5;129m@wraps\u001b[39m(f)\n\u001b[0;32m    139\u001b[0m \u001b[38;5;28;01mdef\u001b[39;00m \u001b[38;5;21mwrapped\u001b[39m(\u001b[38;5;28mself\u001b[39m, X, \u001b[38;5;241m*\u001b[39margs, \u001b[38;5;241m*\u001b[39m\u001b[38;5;241m*\u001b[39mkwargs):\n\u001b[1;32m--> 140\u001b[0m     data_to_wrap \u001b[38;5;241m=\u001b[39m f(\u001b[38;5;28mself\u001b[39m, X, \u001b[38;5;241m*\u001b[39margs, \u001b[38;5;241m*\u001b[39m\u001b[38;5;241m*\u001b[39mkwargs)\n\u001b[0;32m    141\u001b[0m     \u001b[38;5;28;01mif\u001b[39;00m \u001b[38;5;28misinstance\u001b[39m(data_to_wrap, \u001b[38;5;28mtuple\u001b[39m):\n\u001b[0;32m    142\u001b[0m         \u001b[38;5;66;03m# only wrap the first output for cross decomposition\u001b[39;00m\n\u001b[0;32m    143\u001b[0m         \u001b[38;5;28;01mreturn\u001b[39;00m (\n\u001b[0;32m    144\u001b[0m             _wrap_data_with_container(method, data_to_wrap[\u001b[38;5;241m0\u001b[39m], X, \u001b[38;5;28mself\u001b[39m),\n\u001b[0;32m    145\u001b[0m             \u001b[38;5;241m*\u001b[39mdata_to_wrap[\u001b[38;5;241m1\u001b[39m:],\n\u001b[0;32m    146\u001b[0m         )\n",
      "File \u001b[1;32m~\\anaconda3\\Lib\\site-packages\\sklearn\\base.py:878\u001b[0m, in \u001b[0;36mTransformerMixin.fit_transform\u001b[1;34m(self, X, y, **fit_params)\u001b[0m\n\u001b[0;32m    874\u001b[0m \u001b[38;5;66;03m# non-optimized default implementation; override when a better\u001b[39;00m\n\u001b[0;32m    875\u001b[0m \u001b[38;5;66;03m# method is possible for a given clustering algorithm\u001b[39;00m\n\u001b[0;32m    876\u001b[0m \u001b[38;5;28;01mif\u001b[39;00m y \u001b[38;5;129;01mis\u001b[39;00m \u001b[38;5;28;01mNone\u001b[39;00m:\n\u001b[0;32m    877\u001b[0m     \u001b[38;5;66;03m# fit method of arity 1 (unsupervised transformation)\u001b[39;00m\n\u001b[1;32m--> 878\u001b[0m     \u001b[38;5;28;01mreturn\u001b[39;00m \u001b[38;5;28mself\u001b[39m\u001b[38;5;241m.\u001b[39mfit(X, \u001b[38;5;241m*\u001b[39m\u001b[38;5;241m*\u001b[39mfit_params)\u001b[38;5;241m.\u001b[39mtransform(X)\n\u001b[0;32m    879\u001b[0m \u001b[38;5;28;01melse\u001b[39;00m:\n\u001b[0;32m    880\u001b[0m     \u001b[38;5;66;03m# fit method of arity 2 (supervised transformation)\u001b[39;00m\n\u001b[0;32m    881\u001b[0m     \u001b[38;5;28;01mreturn\u001b[39;00m \u001b[38;5;28mself\u001b[39m\u001b[38;5;241m.\u001b[39mfit(X, y, \u001b[38;5;241m*\u001b[39m\u001b[38;5;241m*\u001b[39mfit_params)\u001b[38;5;241m.\u001b[39mtransform(X)\n",
      "File \u001b[1;32m~\\anaconda3\\Lib\\site-packages\\sklearn\\utils\\_set_output.py:140\u001b[0m, in \u001b[0;36m_wrap_method_output.<locals>.wrapped\u001b[1;34m(self, X, *args, **kwargs)\u001b[0m\n\u001b[0;32m    138\u001b[0m \u001b[38;5;129m@wraps\u001b[39m(f)\n\u001b[0;32m    139\u001b[0m \u001b[38;5;28;01mdef\u001b[39;00m \u001b[38;5;21mwrapped\u001b[39m(\u001b[38;5;28mself\u001b[39m, X, \u001b[38;5;241m*\u001b[39margs, \u001b[38;5;241m*\u001b[39m\u001b[38;5;241m*\u001b[39mkwargs):\n\u001b[1;32m--> 140\u001b[0m     data_to_wrap \u001b[38;5;241m=\u001b[39m f(\u001b[38;5;28mself\u001b[39m, X, \u001b[38;5;241m*\u001b[39margs, \u001b[38;5;241m*\u001b[39m\u001b[38;5;241m*\u001b[39mkwargs)\n\u001b[0;32m    141\u001b[0m     \u001b[38;5;28;01mif\u001b[39;00m \u001b[38;5;28misinstance\u001b[39m(data_to_wrap, \u001b[38;5;28mtuple\u001b[39m):\n\u001b[0;32m    142\u001b[0m         \u001b[38;5;66;03m# only wrap the first output for cross decomposition\u001b[39;00m\n\u001b[0;32m    143\u001b[0m         \u001b[38;5;28;01mreturn\u001b[39;00m (\n\u001b[0;32m    144\u001b[0m             _wrap_data_with_container(method, data_to_wrap[\u001b[38;5;241m0\u001b[39m], X, \u001b[38;5;28mself\u001b[39m),\n\u001b[0;32m    145\u001b[0m             \u001b[38;5;241m*\u001b[39mdata_to_wrap[\u001b[38;5;241m1\u001b[39m:],\n\u001b[0;32m    146\u001b[0m         )\n",
      "File \u001b[1;32m~\\anaconda3\\Lib\\site-packages\\sklearn\\random_projection.py:599\u001b[0m, in \u001b[0;36mGaussianRandomProjection.transform\u001b[1;34m(self, X)\u001b[0m\n\u001b[0;32m    594\u001b[0m check_is_fitted(\u001b[38;5;28mself\u001b[39m)\n\u001b[0;32m    595\u001b[0m X \u001b[38;5;241m=\u001b[39m \u001b[38;5;28mself\u001b[39m\u001b[38;5;241m.\u001b[39m_validate_data(\n\u001b[0;32m    596\u001b[0m     X, accept_sparse\u001b[38;5;241m=\u001b[39m[\u001b[38;5;124m\"\u001b[39m\u001b[38;5;124mcsr\u001b[39m\u001b[38;5;124m\"\u001b[39m, \u001b[38;5;124m\"\u001b[39m\u001b[38;5;124mcsc\u001b[39m\u001b[38;5;124m\"\u001b[39m], reset\u001b[38;5;241m=\u001b[39m\u001b[38;5;28;01mFalse\u001b[39;00m, dtype\u001b[38;5;241m=\u001b[39m[np\u001b[38;5;241m.\u001b[39mfloat64, np\u001b[38;5;241m.\u001b[39mfloat32]\n\u001b[0;32m    597\u001b[0m )\n\u001b[1;32m--> 599\u001b[0m \u001b[38;5;28;01mreturn\u001b[39;00m X \u001b[38;5;241m@\u001b[39m \u001b[38;5;28mself\u001b[39m\u001b[38;5;241m.\u001b[39mcomponents_\u001b[38;5;241m.\u001b[39mT\n",
      "\u001b[1;31mMemoryError\u001b[0m: Unable to allocate 8.39 GiB for an array with shape (214186, 10521) and data type float32"
     ]
    }
   ],
   "source": [
    "from sklearn.random_projection import GaussianRandomProjection as GRP\n",
    "grp = GRP(random_state = 42)\n",
    "reduced = grp.fit_transform(embedded)"
   ]
  },
  {
   "cell_type": "code",
   "execution_count": 24,
   "id": "27645ae0-de62-4915-85b4-8f6a67e106e0",
   "metadata": {
    "tags": []
   },
   "outputs": [
    {
     "data": {
      "text/plain": [
       "214186"
      ]
     },
     "execution_count": 24,
     "metadata": {},
     "output_type": "execute_result"
    }
   ],
   "source": [
    "len(mail_list)"
   ]
  },
  {
   "cell_type": "code",
   "execution_count": null,
   "id": "9b7ee585",
   "metadata": {},
   "outputs": [],
   "source": [
    "D_frame = pd.DataFrame(embedded)"
   ]
  },
  {
   "cell_type": "code",
   "execution_count": null,
   "id": "79e1a885",
   "metadata": {},
   "outputs": [],
   "source": [
    "D_frame['label'] = labels"
   ]
  },
  {
   "cell_type": "code",
   "execution_count": null,
   "id": "477f0579",
   "metadata": {},
   "outputs": [],
   "source": [
    "from sklearn.model_selection import train_test_split\n",
    "train, test =  train_test_split(D_frame, test_size = 0.2, stratify = D_frame['label'], random_state = 41)"
   ]
  },
  {
   "cell_type": "code",
   "execution_count": null,
   "id": "7cc7a780",
   "metadata": {},
   "outputs": [],
   "source": [
    "y_train = train['label']"
   ]
  },
  {
   "cell_type": "code",
   "execution_count": null,
   "id": "d6e99d00",
   "metadata": {},
   "outputs": [],
   "source": [
    "X_train = train.drop('label', axis =1)"
   ]
  },
  {
   "cell_type": "code",
   "execution_count": null,
   "id": "7ca5ad28",
   "metadata": {},
   "outputs": [],
   "source": [
    "X_test, y_test =  test.drop('label', axis = 1), test['label']"
   ]
  },
  {
   "cell_type": "code",
   "execution_count": null,
   "id": "07e24df8",
   "metadata": {},
   "outputs": [],
   "source": [
    "\"\"\"from sklearn.neighbors import KNeighborsClassifier, RadiusNeighborsClassifier\n",
    "KNC = KNeighborsClassifier(n_neighbors = 10)\n",
    "KNC.fit(X_train, y_train)\"\"\"\n",
    "\n",
    "\n",
    "from sklearn.linear_model import SGDClassifier\n",
    "SGD = SGDClassifier(random_state = 42)\n",
    "SGD.fit(X_train,y_train)\n",
    "\n",
    "\"\"\"RNC = RadiusNeighborsClassifier(radius = 10000)\n",
    "RNC.fit(X_train, y_train)\n",
    "RNC.predict([X_test.iloc[0]])\"\"\""
   ]
  },
  {
   "cell_type": "code",
   "execution_count": null,
   "id": "b654ad7a",
   "metadata": {},
   "outputs": [],
   "source": [
    "SGD.predict(X_test)"
   ]
  },
  {
   "cell_type": "code",
   "execution_count": null,
   "id": "77b942b0",
   "metadata": {},
   "outputs": [],
   "source": [
    "from sklearn.metrics import accuracy_score, precision_score, recall_score"
   ]
  },
  {
   "cell_type": "code",
   "execution_count": null,
   "id": "4b4db366",
   "metadata": {},
   "outputs": [],
   "source": [
    "from sklearn.model_selection import cross_val_score\n",
    "cross_val_score(SGD, X_train, y_train, cv = 5, scoring = 'accuracy')"
   ]
  },
  {
   "cell_type": "code",
   "execution_count": null,
   "id": "cf306eec",
   "metadata": {
    "tags": []
   },
   "outputs": [],
   "source": [
    "coeffs = SGD.coef_[0]\n",
    "words = np.array(word_list[1:])"
   ]
  },
  {
   "cell_type": "code",
   "execution_count": null,
   "id": "428c0a08-f8f2-4c4d-a007-17c33e2dcd87",
   "metadata": {
    "tags": []
   },
   "outputs": [],
   "source": [
    "words[coeffs.argsort()[-40:]]"
   ]
  },
  {
   "cell_type": "code",
   "execution_count": null,
   "id": "7753a2fd-7776-4803-bbbb-b403bcf9337c",
   "metadata": {
    "tags": []
   },
   "outputs": [],
   "source": [
    "var = embed.T.dot(embed)"
   ]
  },
  {
   "cell_type": "code",
   "execution_count": null,
   "id": "a0f7f423-4ae0-48d4-b262-47033c9443c2",
   "metadata": {
    "tags": []
   },
   "outputs": [],
   "source": [
    "centrd = embed - embed.mean(axis=0)"
   ]
  },
  {
   "cell_type": "code",
   "execution_count": null,
   "id": "a4d2b531-7cc4-4c4c-bce5-6824daa0965b",
   "metadata": {
    "tags": []
   },
   "outputs": [],
   "source": [
    "u, e , vt = np.linalg.svd(centrd)"
   ]
  },
  {
   "cell_type": "code",
   "execution_count": null,
   "id": "c2918cb1-5cf8-475f-8e06-a93121aa3b89",
   "metadata": {
    "tags": []
   },
   "outputs": [],
   "source": [
    "from sklearn.decomposition import PCA\n",
    "pca = PCA(n_components = 0.95)\n",
    "red = pca.fit_transform(X_train)"
   ]
  },
  {
   "cell_type": "code",
   "execution_count": null,
   "id": "ca16a020-329f-4a3c-8163-6d5e24b330c0",
   "metadata": {
    "tags": []
   },
   "outputs": [],
   "source": [
    "pca.n_components_"
   ]
  },
  {
   "cell_type": "code",
   "execution_count": null,
   "id": "75537d58-d59d-49e8-a9dc-9836d6bab278",
   "metadata": {
    "tags": []
   },
   "outputs": [],
   "source": [
    "SGD1 = SGDClassifier(random_state = 42)\n",
    "SGD1.fit(red, labels)"
   ]
  },
  {
   "cell_type": "code",
   "execution_count": 13,
   "id": "7576fe20-714f-4392-aa95-1d6b0ce73bcf",
   "metadata": {
    "tags": []
   },
   "outputs": [],
   "source": [
    "filename = 'm.mmap'\n",
    "testmap = np.memmap(filename, dtype = 'float32', mode = 'write', shape = (2,3))"
   ]
  },
  {
   "cell_type": "code",
   "execution_count": 14,
   "id": "5c652487-994e-495e-9d3c-a18802561f5d",
   "metadata": {
    "tags": []
   },
   "outputs": [
    {
     "data": {
      "text/plain": [
       "27719"
      ]
     },
     "execution_count": 14,
     "metadata": {},
     "output_type": "execute_result"
    }
   ],
   "source": [
    "len(table.keys())"
   ]
  },
  {
   "cell_type": "code",
   "execution_count": 15,
   "id": "5e417a88-5042-4c56-8d5f-d99492c3addb",
   "metadata": {
    "tags": []
   },
   "outputs": [],
   "source": [
    "testmap[1] = [4,5,6]"
   ]
  },
  {
   "cell_type": "code",
   "execution_count": 14,
   "id": "36380f51-58a6-4955-92c2-c4016b73dcea",
   "metadata": {
    "tags": []
   },
   "outputs": [
    {
     "ename": "NameError",
     "evalue": "name 'embed' is not defined",
     "output_type": "error",
     "traceback": [
      "\u001b[1;31m---------------------------------------------------------------------------\u001b[0m",
      "\u001b[1;31mNameError\u001b[0m                                 Traceback (most recent call last)",
      "Cell \u001b[1;32mIn[14], line 1\u001b[0m\n\u001b[1;32m----> 1\u001b[0m embed\n",
      "\u001b[1;31mNameError\u001b[0m: name 'embed' is not defined"
     ]
    }
   ],
   "source": [
    "embed"
   ]
  },
  {
   "cell_type": "markdown",
   "id": "80246912-bb5f-476e-b200-f7b56edec352",
   "metadata": {},
   "source": []
  }
 ],
 "metadata": {
  "kernelspec": {
   "display_name": "Python 3 (ipykernel)",
   "language": "python",
   "name": "python3"
  },
  "language_info": {
   "codemirror_mode": {
    "name": "ipython",
    "version": 3
   },
   "file_extension": ".py",
   "mimetype": "text/x-python",
   "name": "python",
   "nbconvert_exporter": "python",
   "pygments_lexer": "ipython3",
   "version": "3.11.9"
  }
 },
 "nbformat": 4,
 "nbformat_minor": 5
}
